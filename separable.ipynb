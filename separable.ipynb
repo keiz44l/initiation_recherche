{
 "cells": [
  {
   "cell_type": "code",
   "execution_count": 1,
   "metadata": {},
   "outputs": [],
   "source": [
    "import matplotlib.pyplot as plt\n",
    "from statsmodels.distributions.empirical_distribution import ECDF\n",
    "import numpy as np"
   ]
  },
  {
   "cell_type": "code",
   "execution_count": null,
   "metadata": {},
   "outputs": [],
   "source": [
    "instances_borg_d2 = []\n",
    "instance = {}\n",
    "# Read the data\n",
    "with open(\"./bbob-biobj_f01_d02_hyp.tdat\", \"r\") as file:\n",
    "    for line in file:\n",
    "        if line[0] == \"%\" and instance:\n",
    "            instances_borg_d2.append(instance)\n",
    "            instance = {}\n",
    "        if line[0] == \"%\":   \n",
    "            continue\n",
    "        line = line.split()\n",
    "        instance[int(line[0])] = float(line[1])\n",
    "    instances_borg_d2.append(instance)\n",
    "\n",
    "instances_borg_d10 = []\n",
    "instance = {}\n",
    "# Read the data\n",
    "with open(\"./bbob-biobj_f01_d10_hyp.tdat\", \"r\") as file:\n",
    "    for line in file:\n",
    "        if line[0] == \"%\" and instance:\n",
    "            instances_borg_d10.append(instance)\n",
    "            instance = {}\n",
    "        if line[0] == \"%\":   \n",
    "            continue\n",
    "        line = line.split()\n",
    "        instance[int(line[0])] = float(line[1])\n",
    "    instances_borg_d10.append(instance)\n",
    "\n",
    "instances_borg_d20 = []\n",
    "instance = {}\n",
    "# Read the data\n",
    "with open(\"./bbob-biobj_f01_d20_hyp.tdat\", \"r\") as file:\n",
    "    for line in file:\n",
    "        if line[0] == \"%\" and instance:\n",
    "            instances_borg_d20.append(instance)\n",
    "            instance = {}\n",
    "        if line[0] == \"%\":   \n",
    "            continue\n",
    "        line = line.split()\n",
    "        instance[int(line[0])] = float(line[1])\n",
    "    instances_borg_d20.append(instance)"
   ]
  }
 ],
 "metadata": {
  "kernelspec": {
   "display_name": "Python 3",
   "language": "python",
   "name": "python3"
  },
  "language_info": {
   "codemirror_mode": {
    "name": "ipython",
    "version": 3
   },
   "file_extension": ".py",
   "mimetype": "text/x-python",
   "name": "python",
   "nbconvert_exporter": "python",
   "pygments_lexer": "ipython3",
   "version": "3.10.5"
  }
 },
 "nbformat": 4,
 "nbformat_minor": 2
}
